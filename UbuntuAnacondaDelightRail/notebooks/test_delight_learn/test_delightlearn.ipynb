{
 "cells": [
  {
   "cell_type": "markdown",
   "id": "industrial-chile",
   "metadata": {},
   "source": [
    "# Test Delight Learn "
   ]
  },
  {
   "cell_type": "markdown",
   "id": "color-green",
   "metadata": {},
   "source": [
    "- author : Sylvie Dagoret-Campagne\n",
    "\n",
    "- affiliation : IJCLab/IN2P3/CNRS\n",
    "- creation date : March 17th 2021\n",
    "- update : April 3rd 2021"
   ]
  },
  {
   "cell_type": "code",
   "execution_count": 25,
   "id": "collect-disclaimer",
   "metadata": {},
   "outputs": [],
   "source": [
    "%matplotlib inline\n",
    "import numpy as np\n",
    "import matplotlib.pyplot as plt\n",
    "import scipy.stats\n",
    "import sys\n",
    "sys.path.append('../')\n",
    "from delight.io import *\n",
    "from delight.utils import *\n",
    "from delight.photoz_gp import PhotozGP"
   ]
  },
  {
   "cell_type": "code",
   "execution_count": 26,
   "id": "reported-hello",
   "metadata": {},
   "outputs": [],
   "source": [
    "from mpi4py import MPI\n",
    "from delight.photoz_kernels import Photoz_mean_function, Photoz_kernel"
   ]
  },
  {
   "cell_type": "code",
   "execution_count": 27,
   "id": "occupied-weapon",
   "metadata": {},
   "outputs": [],
   "source": [
    "logger = logging.getLogger(__name__)\n",
    "coloredlogs.install(level='DEBUG', logger=logger,fmt='%(asctime)s,%(msecs)03d %(programname)s, %(name)s[%(process)d] %(levelname)s %(message)s')"
   ]
  },
  {
   "cell_type": "code",
   "execution_count": 28,
   "id": "bottom-benefit",
   "metadata": {},
   "outputs": [],
   "source": [
    "plt.rcParams[\"figure.figsize\"] = (6,4)\n",
    "plt.rcParams[\"axes.labelsize\"] = 'xx-large'\n",
    "plt.rcParams['axes.titlesize'] = 'xx-large'\n",
    "plt.rcParams['xtick.labelsize']= 'xx-large'\n",
    "plt.rcParams['ytick.labelsize']= 'xx-large'"
   ]
  },
  {
   "cell_type": "markdown",
   "id": "decent-duncan",
   "metadata": {},
   "source": [
    "# Configuration\n",
    "\n",
    "- select if want to control Delight internal simulation or DC2"
   ]
  },
  {
   "cell_type": "code",
   "execution_count": 29,
   "id": "swedish-serve",
   "metadata": {},
   "outputs": [],
   "source": [
    "FLAG_DC2=True"
   ]
  },
  {
   "cell_type": "code",
   "execution_count": 30,
   "id": "convinced-samoa",
   "metadata": {},
   "outputs": [],
   "source": [
    "if FLAG_DC2:\n",
    "    configfilename='tmp/parametersTest.cfg'\n",
    "else:\n",
    "    configfilename='tmpsim/parametersTest.cfg'"
   ]
  },
  {
   "cell_type": "markdown",
   "id": "hawaiian-absence",
   "metadata": {},
   "source": [
    "# Load config and data"
   ]
  },
  {
   "cell_type": "code",
   "execution_count": 31,
   "id": "impaired-brave",
   "metadata": {},
   "outputs": [
    {
     "name": "stderr",
     "output_type": "stream",
     "text": [
      "2021-04-05 16:17:16,172 ipykernel_launcher.py, __main__[134] INFO --- DELIGHT-LEARN ---\n",
      "<ipython-input-31-451e2c926dfc>:21: DeprecationWarning: Calling np.sum(generator) is deprecated, and in the future will give a different result. Use np.sum(np.fromiter(generator)) or the python sum builtin instead.\n",
      "  numObjectsTraining = np.sum(1 for line in open(params['training_catFile']))\n",
      "2021-04-05 16:17:16,436 ipykernel_launcher.py, __main__[134] INFO Number of Training Objects 3755\n",
      "2021-04-05 16:17:16,441 ipykernel_launcher.py, __main__[134] INFO Thread 0 , analyzes lines 0 , to 3755\n"
     ]
    }
   ],
   "source": [
    "params = parseParamFile(configfilename, verbose=False)\n",
    "\n",
    "\n",
    "comm = MPI.COMM_WORLD\n",
    "threadNum = comm.Get_rank()\n",
    "numThreads = comm.Get_size()\n",
    "\n",
    "\n",
    "if threadNum == 0:\n",
    "    logger.info(\"--- DELIGHT-LEARN ---\")\n",
    "\n",
    "\n",
    "# Read filter coefficients, compute normalization of filters\n",
    "bandCoefAmplitudes, bandCoefPositions, bandCoefWidths, norms = readBandCoefficients(params)\n",
    "numBands = bandCoefAmplitudes.shape[0]\n",
    "\n",
    "redshiftDistGrid, redshiftGrid, redshiftGridGP = createGrids(params)\n",
    "\n",
    "f_mod = readSEDs(params)\n",
    "\n",
    "numObjectsTraining = np.sum(1 for line in open(params['training_catFile']))\n",
    "\n",
    "msg= 'Number of Training Objects ' + str(numObjectsTraining)\n",
    "logger.info(msg)\n",
    "\n",
    "\n",
    "firstLine = int(threadNum * numObjectsTraining / numThreads)\n",
    "lastLine = int(min(numObjectsTraining,(threadNum + 1) * numObjectsTraining / numThreads))\n",
    "numLines = lastLine - firstLine\n",
    "\n",
    "    \n",
    "msg ='Thread ' +  str(threadNum) + ' , analyzes lines ' + str(firstLine) + ' , to ' + str(lastLine)\n",
    "logger.info(msg)\n",
    "\n",
    "DL = approx_DL()\n",
    "gp = PhotozGP(f_mod, bandCoefAmplitudes, bandCoefPositions, bandCoefWidths,\n",
    "              params['lines_pos'], params['lines_width'],\n",
    "              params['V_C'], params['V_L'],\n",
    "              params['alpha_C'], params['alpha_L'],\n",
    "              redshiftGridGP, use_interpolators=True)\n",
    "\n",
    "B = numBands\n",
    "numCol = 3 + B + B*(B+1)//2 + B + f_mod.shape[0]\n",
    "localData = np.zeros((numLines, numCol))\n",
    "fmt = '%i ' + '%.12e ' * (localData.shape[1] - 1)\n",
    "\n",
    "loc = - 1\n",
    "crossValidate = params['training_crossValidate']\n",
    "trainingDataIter1 = getDataFromFile(params, firstLine, lastLine,prefix=\"training_\", getXY=True,CV=crossValidate)\n",
    "\n",
    "\n",
    "all_bestType = []\n",
    "\n",
    "if crossValidate:\n",
    "    chi2sLocal = None\n",
    "    bandIndicesCV, bandNamesCV, bandColumnsCV,bandVarColumnsCV, redshiftColumnCV = readColumnPositions(params, prefix=\"training_CV_\", refFlux=False)\n",
    "\n",
    "for z, normedRefFlux,\\\n",
    "    bands, fluxes, fluxesVar,\\\n",
    "    bandsCV, fluxesCV, fluxesVarCV,\\\n",
    "    X, Y, Yvar in trainingDataIter1:\n",
    "\n",
    "    loc += 1\n",
    "\n",
    "    themod = np.zeros((1, f_mod.shape[0], bands.size))\n",
    "    for it in range(f_mod.shape[0]):\n",
    "        for ib, band in enumerate(bands):\n",
    "            themod[0, it, ib] = f_mod[it, band](z)\n",
    "\n",
    "    # probably calibrate the luminosity parameter l compared to the model\n",
    "    chi2_grid, ellMLs = scalefree_flux_likelihood(fluxes,fluxesVar,themod,returnChi2=True)\n",
    "\n",
    "    bestType = np.argmin(chi2_grid)\n",
    "    all_bestType.append(bestType)\n",
    "    \n",
    "    ell = ellMLs[0, bestType]\n",
    "    X[:, 2] = ell\n",
    "\n",
    "    gp.setData(X, Y, Yvar, bestType)\n",
    "    lB = bands.size\n",
    "    localData[loc, 0] = lB\n",
    "    localData[loc, 1] = z\n",
    "    localData[loc, 2] = ell\n",
    "    localData[loc, 3:3+lB] = bands\n",
    "    localData[loc, 3+lB:3+f_mod.shape[0]+lB+lB*(lB+1)//2+lB] = gp.getCore()\n",
    "    \n",
    "    \n"
   ]
  },
  {
   "cell_type": "code",
   "execution_count": 32,
   "id": "ancient-belief",
   "metadata": {},
   "outputs": [
    {
     "data": {
      "text/plain": [
       "Text(0.5, 1.0, 'distribution of $z$')"
      ]
     },
     "execution_count": 32,
     "metadata": {},
     "output_type": "execute_result"
    },
    {
     "data": {
      "image/png": "[encoded data removed]",
      "text/plain": [
       "<Figure size 432x288 with 1 Axes>"
      ]
     },
     "metadata": {
      "needs_background": "light"
     },
     "output_type": "display_data"
    }
   ],
   "source": [
    "plt.hist(localData[:,1],bins=100,facecolor=\"b\");\n",
    "plt.xlabel(\"$z$\")\n",
    "plt.title(\"distribution of $z$\")"
   ]
  },
  {
   "cell_type": "code",
   "execution_count": 33,
   "id": "later-balance",
   "metadata": {},
   "outputs": [
    {
     "data": {
      "text/plain": [
       "Text(0.5, 1.0, 'distribution of fitted $\\\\ell$')"
      ]
     },
     "execution_count": 33,
     "metadata": {},
     "output_type": "execute_result"
    },
    {
     "data": {
      "image/png": "[encoded data removed]",
      "text/plain": [
       "<Figure size 432x288 with 1 Axes>"
      ]
     },
     "metadata": {
      "needs_background": "light"
     },
     "output_type": "display_data"
    }
   ],
   "source": [
    "plt.hist(np.log10(localData[:,2]),bins=100,facecolor=\"b\");\n",
    "plt.xlabel(\"$log_{10}(\\ell)$\")\n",
    "plt.title(\"distribution of fitted $\\ell$\")"
   ]
  },
  {
   "cell_type": "code",
   "execution_count": 34,
   "id": "e7309a01",
   "metadata": {},
   "outputs": [
    {
     "data": {
      "text/plain": [
       "Text(0.5, 1.0, '$\\\\ell$ vs $z$')"
      ]
     },
     "execution_count": 34,
     "metadata": {},
     "output_type": "execute_result"
    },
    {
     "data": {
      "image/png": "[encoded data removed]",
      "text/plain": [
       "<Figure size 432x288 with 1 Axes>"
      ]
     },
     "metadata": {
      "needs_background": "light"
     },
     "output_type": "display_data"
    }
   ],
   "source": [
    "plt.hist2d(localData[:, 1],np.log10(localData[:,2]),(50,50),cmap=\"jet\");\n",
    "plt.ylabel(\"$log_{10}(\\ell)$\")\n",
    "plt.xlabel(\"$z$\")\n",
    "plt.title(\"$\\ell$ vs $z$\")"
   ]
  },
  {
   "cell_type": "code",
   "execution_count": 35,
   "id": "mature-serve",
   "metadata": {},
   "outputs": [
    {
     "data": {
      "text/plain": [
       "Text(0.5, 1.0, 'distribution of fitted type')"
      ]
     },
     "execution_count": 35,
     "metadata": {},
     "output_type": "execute_result"
    },
    {
     "data": {
      "image/png": "[encoded data removed]",
      "text/plain": [
       "<Figure size 432x288 with 1 Axes>"
      ]
     },
     "metadata": {
      "needs_background": "light"
     },
     "output_type": "display_data"
    }
   ],
   "source": [
    "plt.hist(np.array(all_bestType),bins=10,range=(0,10),color=\"b\",facecolor=\"b\");\n",
    "plt.yscale('log')\n",
    "plt.xlabel('galaxy type number')\n",
    "plt.title(\"distribution of fitted type\")"
   ]
  },
  {
   "cell_type": "code",
   "execution_count": 36,
   "id": "5d2f3580",
   "metadata": {},
   "outputs": [
    {
     "data": {
      "text/plain": [
       "Text(0.5, 1.0, 'galaxy type versus redshift')"
      ]
     },
     "execution_count": 36,
     "metadata": {},
     "output_type": "execute_result"
    },
    {
     "data": {
      "image/png": "[encoded data removed]",
      "text/plain": [
       "<Figure size 432x288 with 1 Axes>"
      ]
     },
     "metadata": {
      "needs_background": "light"
     },
     "output_type": "display_data"
    }
   ],
   "source": [
    "plt.hist2d(localData[:, 1],all_bestType,(50,10),cmap=\"jet\");\n",
    "plt.xlabel('$z$')\n",
    "plt.ylabel('galaxy type number')\n",
    "plt.title(\"galaxy type versus redshift\")"
   ]
  },
  {
   "cell_type": "code",
   "execution_count": 37,
   "id": "authentic-jacksonville",
   "metadata": {},
   "outputs": [
    {
     "data": {
      "text/plain": [
       "<matplotlib.image.AxesImage at 0x7f806cb7d1f0>"
      ]
     },
     "execution_count": 37,
     "metadata": {},
     "output_type": "execute_result"
    },
    {
     "data": {
      "image/png": "[encoded data removed]",
      "text/plain": [
       "<Figure size 432x288 with 1 Axes>"
      ]
     },
     "metadata": {
      "needs_background": "light"
     },
     "output_type": "display_data"
    }
   ],
   "source": [
    "plt.imshow(chi2_grid,cmap=\"jet\")"
   ]
  },
  {
   "cell_type": "code",
   "execution_count": 38,
   "id": "searching-tours",
   "metadata": {},
   "outputs": [],
   "source": [
    "# use MPI to get the totals\n",
    "comm.Barrier()\n",
    "if threadNum == 0:\n",
    "    reducedData = np.zeros((numObjectsTraining, numCol))\n",
    "else:\n",
    "    reducedData = None\n",
    "\n",
    "\n",
    "\n",
    "firstLines = [int(k*numObjectsTraining/numThreads) for k in range(numThreads)]\n",
    "lastLines = [int(min(numObjectsTraining, (k+1)*numObjectsTraining/numThreads)) for k in range(numThreads)]\n",
    "sendcounts = tuple([(lastLines[k] - firstLines[k]) * numCol for k in range(numThreads)])\n",
    "displacements = tuple([firstLines[k] * numCol for k in range(numThreads)])\n",
    "\n",
    "comm.Gatherv(localData, [reducedData, sendcounts, displacements, MPI.DOUBLE])\n",
    "comm.Barrier()\n"
   ]
  },
  {
   "cell_type": "code",
   "execution_count": 39,
   "id": "crude-denver",
   "metadata": {},
   "outputs": [
    {
     "data": {
      "text/plain": [
       "(3755, 44)"
      ]
     },
     "execution_count": 39,
     "metadata": {},
     "output_type": "execute_result"
    }
   ],
   "source": [
    "reducedData.shape"
   ]
  },
  {
   "cell_type": "code",
   "execution_count": null,
   "id": "statistical-surface",
   "metadata": {},
   "outputs": [],
   "source": []
  }
 ],
 "metadata": {
  "kernelspec": {
   "display_name": "Python 3",
   "language": "python",
   "name": "python3"
  },
  "language_info": {
   "codemirror_mode": {
    "name": "ipython",
    "version": 3
   },
   "file_extension": ".py",
   "mimetype": "text/x-python",
   "name": "python",
   "nbconvert_exporter": "python",
   "pygments_lexer": "ipython3",
   "version": "3.8.8"
  }
 },
 "nbformat": 4,
 "nbformat_minor": 5
}

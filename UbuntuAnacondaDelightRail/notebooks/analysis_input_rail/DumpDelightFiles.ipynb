{
 "cells": [
  {
   "cell_type": "code",
   "execution_count": null,
   "id": "swedish-surname",
   "metadata": {},
   "outputs": [],
   "source": []
  },
  {
   "cell_type": "code",
   "execution_count": 2,
   "id": "public-reasoning",
   "metadata": {},
   "outputs": [],
   "source": [
    "%matplotlib inline\n",
    "import numpy as np\n",
    "import matplotlib.pyplot as plt\n",
    "import scipy.stats\n",
    "import sys\n",
    "sys.path.append('../')\n",
    "from delight.io import *\n",
    "from delight.utils import *\n",
    "from delight.photoz_gp import PhotozGP"
   ]
  },
  {
   "cell_type": "code",
   "execution_count": 3,
   "id": "russian-mumbai",
   "metadata": {},
   "outputs": [],
   "source": [
    "plt.rcParams[\"figure.figsize\"] = (12,6)\n",
    "plt.rcParams[\"axes.labelsize\"] = 'xx-large'\n",
    "plt.rcParams['axes.titlesize'] = 'xx-large'\n",
    "plt.rcParams['xtick.labelsize']= 'xx-large'\n",
    "plt.rcParams['ytick.labelsize']= 'xx-large'"
   ]
  },
  {
   "cell_type": "code",
   "execution_count": 4,
   "id": "vietnamese-following",
   "metadata": {},
   "outputs": [
    {
     "name": "stdout",
     "output_type": "stream",
     "text": [
      "delight_data  parametersTest.cfg\r\n"
     ]
    }
   ],
   "source": [
    "! ls tmp"
   ]
  },
  {
   "cell_type": "code",
   "execution_count": 5,
   "id": "tender-differential",
   "metadata": {},
   "outputs": [
    {
     "name": "stdout",
     "output_type": "stream",
     "text": [
      "bandNames: ['lsst_u', 'lsst_g', 'lsst_r', 'lsst_i', 'lsst_z', 'lsst_y']\n",
      "target_catFile: ./tmp/delight_data/galaxies-fluxredshifts2.txt\n",
      "training_catFile: ./tmp/delight_data/galaxies-fluxredshifts.txt\n",
      "templates_directory: /home/ubuntu/.local/lib/python3.8/site-packages/delight/../data/CWW_SEDs\n",
      "bands_directory: /home/ubuntu/.local/lib/python3.8/site-packages/delight/../data/FILTERS\n"
     ]
    }
   ],
   "source": [
    "# First read a bunch of useful stuff from the parameter file.\n",
    "params = parseParamFile('tmp/parametersTest.cfg', verbose=False)\n",
    "\n",
    "# bands\n",
    "bandCoefAmplitudes, bandCoefPositions, bandCoefWidths, norms = readBandCoefficients(params)\n",
    "bandNames = params['bandNames']\n",
    "print('bandNames:',bandNames)\n",
    "numBands, numCoefs = bandCoefAmplitudes.shape\n",
    "\n",
    "# fluxes and redshift\n",
    "fluxredshifts = np.loadtxt(params['target_catFile'])\n",
    "print('target_catFile:',params['target_catFile'])\n",
    "fluxredshifts_train = np.loadtxt(params['training_catFile'])\n",
    "print('training_catFile:',params['training_catFile'])\n",
    "bandIndices, bandNames, bandColumns, bandVarColumns, redshiftColumn, refBandColumn = readColumnPositions(params, prefix='target_')\n",
    "\n",
    "# redshift\n",
    "redshiftDistGrid, redshiftGrid, redshiftGridGP = createGrids(params)\n",
    "dir_seds = params['templates_directory']\n",
    "print('templates_directory:',params['templates_directory'])\n",
    "\n",
    "# filters\n",
    "dir_filters = params['bands_directory']\n",
    "print('bands_directory:',params['bands_directory'])\n",
    "lambdaRef = params['lambdaRef']\n",
    "\n",
    "#sed\n",
    "sed_names = params['templates_names']\n",
    "nt = len(sed_names)\n",
    "f_mod = np.zeros((redshiftGrid.size, nt, len(params['bandNames'])))\n",
    "for t, sed_name in enumerate(sed_names):\n",
    "    f_mod[:, t, :] = np.loadtxt(dir_seds + '/' + sed_name + '_fluxredshiftmod.txt')"
   ]
  },
  {
   "cell_type": "code",
   "execution_count": null,
   "id": "double-friend",
   "metadata": {},
   "outputs": [],
   "source": []
  }
 ],
 "metadata": {
  "kernelspec": {
   "display_name": "Python 3",
   "language": "python",
   "name": "python3"
  },
  "language_info": {
   "codemirror_mode": {
    "name": "ipython",
    "version": 3
   },
   "file_extension": ".py",
   "mimetype": "text/x-python",
   "name": "python",
   "nbconvert_exporter": "python",
   "pygments_lexer": "ipython3",
   "version": "3.8.8"
  }
 },
 "nbformat": 4,
 "nbformat_minor": 5
}
